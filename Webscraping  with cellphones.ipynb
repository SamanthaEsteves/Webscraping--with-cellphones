{
 "cells": [
  {
   "cell_type": "code",
   "execution_count": null,
   "metadata": {},
   "outputs": [],
   "source": [
    "# Importando bibliotecas\n",
    "\n",
    "import time\n",
    "import os\n",
    "import re\n",
    "import pandas as pd\n",
    "\n",
    "from selenium import webdriver\n",
    "from selenium.webdriver.common.keys import Keys\n",
    "from selenium.webdriver.common.by import By\n",
    "from selenium.common.exceptions import NoSuchElementException"
   ]
  },
  {
   "cell_type": "code",
   "execution_count": null,
   "metadata": {},
   "outputs": [],
   "source": [
    "# Declarando variáveis\n",
    "\n",
    "name_list = []\n",
    "battery_list = []\n",
    "ram_memory_list = []\n",
    "frontal_camera_list = []\n",
    "back_camera_list = []\n",
    "processor_list = []\n",
    "size_list = []\n",
    "resolution_list = []\n",
    "erro = []"
   ]
  },
  {
   "cell_type": "code",
   "execution_count": null,
   "metadata": {},
   "outputs": [],
   "source": [
    "# Extraindo as informações do site\n",
    "\n",
    "def web_scraping():\n",
    "\n",
    "    web = webdriver.Chrome()\n",
    "    web.get(\"https://www.maiscelular.com.br/fichas-tecnicas/\")\n",
    "\n",
    "    counter = 1\n",
    "\n",
    "    final = web.find_element(By.XPATH, '//*[@id = \"hlkAnterior\"]/span')\n",
    "\n",
    "    while final != \"Anteior\":\n",
    "        for i in range(2):\n",
    "\n",
    "            for i in range(20):\n",
    "                try:\n",
    "                \n",
    "                    name_list.append(web.find_element(By.XPATH, f'//*[@id=\"accessibility_content\"]/div[2]/div/div[2]/div[2]/div[{counter}]/div/div[1]/a/strong').text)\n",
    "\n",
    "                    battery = web.find_element(By.XPATH, f'//*[@id=\"accessibility_content\"]/div[2]/div/div[2]/div[2]/div[{counter}]/div/div[2]/div[4]/strong').text\n",
    "                    battery = re.sub('[^0-9]', '', str(battery))\n",
    "                    battery_list.append(battery)\n",
    "\n",
    "                    ram_memory = web.find_element(By.XPATH, f'// *[@id=\"accessibility_content\"]/div[2]/div/div[2]/div[2]/div[{counter}]/div/div[2]/div[3]/strong').text\n",
    "                    ram_memory = re.sub('[^0-9]', '', str(ram_memory))\n",
    "                    ram_memory_list.append(ram_memory)\n",
    "\n",
    "                    processor_list.append(web.find_element(By.XPATH, f'// *[@id=\"accessibility_content\"]/div[2]/div/div[2]/div[2]/div[{counter}]/div/div[2]/div[3]/p').text)\n",
    "                \n",
    "                    frontal_camera = web.find_element(By.XPATH, f'// *[@id=\"accessibility_content\"]/div[2]/div/div[2]/div[2]/div[{counter}]/div/div[2]/div[2]/strong').text\n",
    "                    frontal_camera = re.sub('[^0-9]', '', str(frontal_camera))\n",
    "                    frontal_camera_list.append(frontal_camera)\n",
    "\n",
    "                    back_camera = web.find_element(By.XPATH, f'// *[@id=\"accessibility_content\"]/div[2]/div/div[2]/div[2]/div[{counter}]/div/div[2]/div[2]/p').text\n",
    "                    back_camera = re.sub('[^0-9]', '', str(back_camera))\n",
    "                    back_camera_list.append(back_camera)\n",
    "\n",
    "                    size = web.find_element(By.XPATH, f'// *[@id=\"accessibility_content\"]/div[2]/div/div[2]/div[2]/div[{counter}]/div/div[2]/div[1]/strong').text\n",
    "                    size = re.sub('[^0-9]', '', str(size))\n",
    "                    size_list.append(size)\n",
    "                    \n",
    "                    resolution_list.append(web.find_element(By.XPATH, f'// *[@id=\"accessibility_content\"]/div[2]/div/div[2]/div[2]/div[{counter}]/div/div[2]/div[1]/p').text)\n",
    "                    \n",
    "                    counter = counter + 1\n",
    "\n",
    "                    global data \n",
    "                    data = [name_list, battery_list, ram_memory_list, processor_list, frontal_camera_list, back_camera_list, size_list, resolution_list] \n",
    "\n",
    "                except NoSuchElementException:\n",
    "                    erro = erro + 1\n",
    "\n",
    "            final = web.find_element(By.XPATH, '//*[@id = \"hlkAnterior\"]/span').click()\n",
    "        \n",
    "\n",
    "\n",
    "    web.close()\n",
    "\n",
    "web_scraping()"
   ]
  },
  {
   "cell_type": "code",
   "execution_count": 43,
   "metadata": {},
   "outputs": [],
   "source": [
    "# Transferindo informações para um excel\n",
    "\n",
    "table = pd.DataFrame(data)\n",
    "table_arranged = table.transpose()\n",
    "table_arranged.columns = [\"Name\", \"Battery\", \"Ram\",\"Processor\", \"Frontal Camera\", \"Back camera\", \"Size\", \"Resolution\"]\n",
    "table_arranged.drop(0)\n",
    "file_name = \"Celulares.xlsx\"\n",
    "table_arranged.to_excel(file_name, index=False)\n"
   ]
  },
  {
   "cell_type": "code",
   "execution_count": null,
   "metadata": {},
   "outputs": [],
   "source": [
    "# Enviando por email\n",
    "\n",
    "def email():\n",
    "    email_user = int(\"Insira seu email para receber a planilha excel\")"
   ]
  }
 ],
 "metadata": {
  "kernelspec": {
   "display_name": "Python 3.10.7 64-bit",
   "language": "python",
   "name": "python3"
  },
  "language_info": {
   "codemirror_mode": {
    "name": "ipython",
    "version": 3
   },
   "file_extension": ".py",
   "mimetype": "text/x-python",
   "name": "python",
   "nbconvert_exporter": "python",
   "pygments_lexer": "ipython3",
   "version": "3.10.7"
  },
  "orig_nbformat": 4,
  "vscode": {
   "interpreter": {
    "hash": "efb7a97d474e1365eb3cc1499572f8bbefdf3cf8bd59fd2202ae78240eb011e1"
   }
  }
 },
 "nbformat": 4,
 "nbformat_minor": 2
}
